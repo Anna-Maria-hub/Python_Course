{
 "cells": [
  {
   "cell_type": "code",
   "execution_count": 17,
   "metadata": {},
   "outputs": [],
   "source": [
    "import os\n",
    "import time\n",
    "import codecs\n",
    "import string\n",
    "import re\n",
    "from collections import Counter\n",
    "from collections import defaultdict\n",
    "\n",
    "import pandas as pd\n",
    "import numpy as np\n",
    "import matplotlib.pyplot as plt\n",
    "import seaborn as sns\n",
    "\n",
    "import urllib\n",
    "import requests\n",
    "from bs4 import BeautifulSoup\n",
    "\n",
    "#import spacy\n",
    "import nltk\n",
    "import networkx as nx\n",
    "#import gensim\n",
    "#from wordcloud import WordCloud\n",
    "#import textract\n",
    "#import pyLDAvis\n",
    "#import pyLDAvis.gensim_models\n",
    "#import textstat\n",
    "import textblob\n",
    "\n",
    "from IPython.core.display import Image\n",
    "%matplotlib inline"
   ]
  },
  {
   "cell_type": "code",
   "execution_count": 25,
   "metadata": {
    "scrolled": true
   },
   "outputs": [
    {
     "name": "stderr",
     "output_type": "stream",
     "text": [
      "Command \"C:\\Users\\amiip\\Anaconda2\\python.exe -m pip install --ignore-installed --no-user --prefix c:\\users\\amiip\\appdata\\local\\temp\\pip-build-env-jvmpxw --no-warn-script-location --no-binary :none: --only-binary :none: -i https://pypi.org/simple -- setuptools cython>=0.25 cymem>=2.0.2,<2.1.0 preshed>=3.0.2,<3.1.0 murmurhash>=0.28.0,<1.1.0 thinc>=7.4.1,<7.5.0 blis>=0.4.0,<0.8.0 numpy>=1.15.0\" failed with error code 1 in None\n"
     ]
    }
   ],
   "source": [
    "!pip install -U -q pip nltk gensim wordcloud textract textstat textblob spacy pyldavis goose3 numpy openpyxl"
   ]
  },
  {
   "cell_type": "code",
   "execution_count": 18,
   "metadata": {
    "scrolled": false
   },
   "outputs": [
    {
     "name": "stderr",
     "output_type": "stream",
     "text": [
      "[nltk_data] Downloading package stopwords to\n",
      "[nltk_data]     C:\\Users\\amiip\\AppData\\Roaming\\nltk_data...\n",
      "[nltk_data]   Unzipping corpora\\stopwords.zip.\n",
      "[nltk_data] Downloading package punkt to\n",
      "[nltk_data]     C:\\Users\\amiip\\AppData\\Roaming\\nltk_data...\n",
      "[nltk_data]   Unzipping tokenizers\\punkt.zip.\n",
      "[nltk_data] Downloading package wordnet to\n",
      "[nltk_data]     C:\\Users\\amiip\\AppData\\Roaming\\nltk_data...\n",
      "[nltk_data]   Unzipping corpora\\wordnet.zip.\n",
      "[nltk_data] Downloading package averaged_perceptron_tagger to\n",
      "[nltk_data]     C:\\Users\\amiip\\AppData\\Roaming\\nltk_data...\n",
      "[nltk_data]   Unzipping taggers\\averaged_perceptron_tagger.zip.\n",
      "[nltk_data] Downloading package brown to\n",
      "[nltk_data]     C:\\Users\\amiip\\AppData\\Roaming\\nltk_data...\n",
      "[nltk_data]   Unzipping corpora\\brown.zip.\n"
     ]
    },
    {
     "data": {
      "text/plain": [
       "True"
      ]
     },
     "execution_count": 18,
     "metadata": {},
     "output_type": "execute_result"
    }
   ],
   "source": [
    "nltk.download('stopwords')\n",
    "nltk.download('punkt')\n",
    "nltk.download('wordnet')\n",
    "nltk.download('averaged_perceptron_tagger')\n",
    "nltk.download('brown')"
   ]
  },
  {
   "cell_type": "code",
   "execution_count": 19,
   "metadata": {},
   "outputs": [],
   "source": [
    "datapath = \"../Data/\"\n",
    "outputs = \"../Data/\""
   ]
  },
  {
   "cell_type": "code",
   "execution_count": 20,
   "metadata": {},
   "outputs": [
    {
     "data": {
      "text/plain": [
       "['CSV', 'EDA', 'Figs', 'Geo', 'Oplexicon_v3.0', 'Texts', 'TXT']"
      ]
     },
     "execution_count": 20,
     "metadata": {},
     "output_type": "execute_result"
    }
   ],
   "source": [
    "onlydirs = [f for f in os.listdir(datapath) if os.path.isdir(os.path.join(datapath,f)) and not f.startswith('.')]\n",
    "onlydirs"
   ]
  },
  {
   "cell_type": "code",
   "execution_count": 23,
   "metadata": {},
   "outputs": [
    {
     "name": "stdout",
     "output_type": "stream",
     "text": [
      "Files in the folder:\n",
      "(1, '--', 'abcnews-date-text.csv')\n",
      "(2, '--', 'AldousHuxley_bravenewworld.pdf')\n",
      "(3, '--', 'ARTIGOS-RBE-COM-RESUMO.xlsx')\n",
      "(4, '--', 'MarcelProust_EmBuscadoTempoPerdido.pdf')\n",
      "(5, '--', 'Possibly_Misclassified_Cables_Review.xlsx')\n",
      "(6, '--', 'RobertFrost_Poetry.pdf')\n"
     ]
    }
   ],
   "source": [
    "corpuspath = os.path.join(datapath, 'Texts')\n",
    "onlyfiles = [f for f in os.listdir(corpuspath) if os.path.isfile(os.path.join(corpuspath,f)) and not f.startswith('.')]\n",
    "onlydirs.sort()\n",
    "\n",
    "print('Files in the folder:')\n",
    "for i, w in enumerate(onlyfiles[0:]):\n",
    "    print(i+1, \"--\" ,w)"
   ]
  },
  {
   "cell_type": "code",
   "execution_count": 24,
   "metadata": {},
   "outputs": [
    {
     "data": {
      "text/html": [
       "<div>\n",
       "<style scoped>\n",
       "    .dataframe tbody tr th:only-of-type {\n",
       "        vertical-align: middle;\n",
       "    }\n",
       "\n",
       "    .dataframe tbody tr th {\n",
       "        vertical-align: top;\n",
       "    }\n",
       "\n",
       "    .dataframe thead th {\n",
       "        text-align: right;\n",
       "    }\n",
       "</style>\n",
       "<table border=\"1\" class=\"dataframe\">\n",
       "  <thead>\n",
       "    <tr style=\"text-align: right;\">\n",
       "      <th></th>\n",
       "      <th>id</th>\n",
       "      <th>link to orig. doc</th>\n",
       "      <th>Prob_Classified</th>\n",
       "      <th>Prob_Unclassified</th>\n",
       "      <th>Odds</th>\n",
       "      <th>date</th>\n",
       "      <th>origclass</th>\n",
       "      <th>subject</th>\n",
       "    </tr>\n",
       "  </thead>\n",
       "  <tbody>\n",
       "    <tr>\n",
       "      <th>0</th>\n",
       "      <td>1975BANGKO06331</td>\n",
       "      <td>NaN</td>\n",
       "      <td>0.499997</td>\n",
       "      <td>0.500003</td>\n",
       "      <td>0.999987</td>\n",
       "      <td>1975-04-14</td>\n",
       "      <td>CONFIDENTIAL</td>\n",
       "      <td>gkr pl 480 rice in pipeline</td>\n",
       "    </tr>\n",
       "    <tr>\n",
       "      <th>1</th>\n",
       "      <td>1976MOSCOW15759</td>\n",
       "      <td>NaN</td>\n",
       "      <td>0.499995</td>\n",
       "      <td>0.500005</td>\n",
       "      <td>0.999980</td>\n",
       "      <td>1976-10-06</td>\n",
       "      <td>CONFIDENTIAL</td>\n",
       "      <td>oecd east-west initiative suggested addition</td>\n",
       "    </tr>\n",
       "    <tr>\n",
       "      <th>2</th>\n",
       "      <td>1974BOGOTA01772</td>\n",
       "      <td>NaN</td>\n",
       "      <td>0.499951</td>\n",
       "      <td>0.500049</td>\n",
       "      <td>0.999804</td>\n",
       "      <td>1974-02-28</td>\n",
       "      <td>CONFIDENTIAL</td>\n",
       "      <td>dea special agent positions</td>\n",
       "    </tr>\n",
       "    <tr>\n",
       "      <th>3</th>\n",
       "      <td>1975STATE034056</td>\n",
       "      <td>NaN</td>\n",
       "      <td>0.499901</td>\n",
       "      <td>0.500099</td>\n",
       "      <td>0.999605</td>\n",
       "      <td>1975-02-14</td>\n",
       "      <td>CONFIDENTIAL</td>\n",
       "      <td>homeporting destroyer tender in naples</td>\n",
       "    </tr>\n",
       "    <tr>\n",
       "      <th>4</th>\n",
       "      <td>1973STATE241960</td>\n",
       "      <td>NaN</td>\n",
       "      <td>0.499896</td>\n",
       "      <td>0.500104</td>\n",
       "      <td>0.999585</td>\n",
       "      <td>1973-12-11</td>\n",
       "      <td>CONFIDENTIAL</td>\n",
       "      <td>president ceausescu visit</td>\n",
       "    </tr>\n",
       "  </tbody>\n",
       "</table>\n",
       "</div>"
      ],
      "text/plain": [
       "                id  link to orig. doc  Prob_Classified  Prob_Unclassified  \\\n",
       "0  1975BANGKO06331                NaN         0.499997           0.500003   \n",
       "1  1976MOSCOW15759                NaN         0.499995           0.500005   \n",
       "2  1974BOGOTA01772                NaN         0.499951           0.500049   \n",
       "3  1975STATE034056                NaN         0.499901           0.500099   \n",
       "4  1973STATE241960                NaN         0.499896           0.500104   \n",
       "\n",
       "       Odds       date     origclass  \\\n",
       "0  0.999987 1975-04-14  CONFIDENTIAL   \n",
       "1  0.999980 1976-10-06  CONFIDENTIAL   \n",
       "2  0.999804 1974-02-28  CONFIDENTIAL   \n",
       "3  0.999605 1975-02-14  CONFIDENTIAL   \n",
       "4  0.999585 1973-12-11  CONFIDENTIAL   \n",
       "\n",
       "                                        subject  \n",
       "0                   gkr pl 480 rice in pipeline  \n",
       "1  oecd east-west initiative suggested addition  \n",
       "2                   dea special agent positions  \n",
       "3        homeporting destroyer tender in naples  \n",
       "4                     president ceausescu visit  "
      ]
     },
     "execution_count": 24,
     "metadata": {},
     "output_type": "execute_result"
    }
   ],
   "source": [
    "df = pd.read_csv (r'Path where the CSV file is stored\\File name.csv')\n",
    "print (df)"
   ]
  }
 ],
 "metadata": {
  "kernelspec": {
   "display_name": "Python 2",
   "language": "python",
   "name": "python2"
  },
  "language_info": {
   "codemirror_mode": {
    "name": "ipython",
    "version": 2
   },
   "file_extension": ".py",
   "mimetype": "text/x-python",
   "name": "python",
   "nbconvert_exporter": "python",
   "pygments_lexer": "ipython2",
   "version": "2.7.15"
  }
 },
 "nbformat": 4,
 "nbformat_minor": 2
}
